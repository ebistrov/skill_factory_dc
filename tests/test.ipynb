{
 "cells": [
  {
   "cell_type": "markdown",
   "metadata": {},
   "source": [
    "2+2\n"
   ]
  },
  {
   "cell_type": "markdown",
   "metadata": {},
   "source": [
    "Hello"
   ]
  },
  {
   "cell_type": "markdown",
   "metadata": {},
   "source": [
    "<b>Hello</b>"
   ]
  },
  {
   "cell_type": "code",
   "execution_count": 2,
   "metadata": {},
   "outputs": [],
   "source": [
    "a= 2+2\n"
   ]
  },
  {
   "cell_type": "code",
   "execution_count": 3,
   "metadata": {},
   "outputs": [
    {
     "data": {
      "text/plain": [
       "20.0"
      ]
     },
     "execution_count": 3,
     "metadata": {},
     "output_type": "execute_result"
    }
   ],
   "source": [
    "((67+33) * (25-20)) / 25"
   ]
  },
  {
   "cell_type": "code",
   "execution_count": 4,
   "metadata": {},
   "outputs": [
    {
     "data": {
      "text/plain": [
       "17.414074767267998"
      ]
     },
     "execution_count": 4,
     "metadata": {},
     "output_type": "execute_result"
    }
   ],
   "source": [
    "(4 + 5 * 60 -17 + 65/4) ** (1/2)"
   ]
  },
  {
   "cell_type": "code",
   "execution_count": 5,
   "metadata": {},
   "outputs": [
    {
     "data": {
      "text/plain": [
       "1916.7312813742387"
      ]
     },
     "execution_count": 5,
     "metadata": {},
     "output_type": "execute_result"
    }
   ],
   "source": [
    "6.996 + 45*(13/2) ** 2 + 2*(18) ** (1/2)\n",
    "\n"
   ]
  },
  {
   "cell_type": "code",
   "execution_count": 9,
   "metadata": {},
   "outputs": [
    {
     "data": {
      "text/plain": [
       "-0.3909200032552083"
      ]
     },
     "execution_count": 9,
     "metadata": {},
     "output_type": "execute_result"
    }
   ],
   "source": [
    "(1267 - 20 * (125 / 2) ** 2) / ((8 ** 5) * 6)"
   ]
  },
  {
   "cell_type": "code",
   "execution_count": 12,
   "metadata": {},
   "outputs": [
    {
     "data": {
      "text/plain": [
       "-4251528.0"
      ]
     },
     "execution_count": 12,
     "metadata": {},
     "output_type": "execute_result"
    }
   ],
   "source": [
    "((((9 ** (1/2)) ** 3) ** 2) ** 2) / ((-2) ** (-3))"
   ]
  },
  {
   "cell_type": "code",
   "execution_count": 20,
   "metadata": {},
   "outputs": [
    {
     "ename": "TypeError",
     "evalue": "unsupported operand type(s) for ** or pow(): 'str' and 'int'",
     "output_type": "error",
     "traceback": [
      "\u001b[0;31m---------------------------------------------------------------------------\u001b[0m",
      "\u001b[0;31mTypeError\u001b[0m                                 Traceback (most recent call last)",
      "\u001b[0;32m<ipython-input-20-415d3ecbe04d>\u001b[0m in \u001b[0;36m<module>\u001b[0;34m\u001b[0m\n\u001b[0;32m----> 1\u001b[0;31m \u001b[0;34m'42'\u001b[0m\u001b[0;34m**\u001b[0m\u001b[0;36m2\u001b[0m\u001b[0;34m\u001b[0m\u001b[0;34m\u001b[0m\u001b[0m\n\u001b[0m",
      "\u001b[0;31mTypeError\u001b[0m: unsupported operand type(s) for ** or pow(): 'str' and 'int'"
     ]
    }
   ],
   "source": [
    "'42'**2"
   ]
  },
  {
   "cell_type": "code",
   "execution_count": 98,
   "metadata": {},
   "outputs": [
    {
     "name": "stdout",
     "output_type": "stream",
     "text": [
      "Ваш алгоритм угадывает число в среднем за 101 попыток\n",
      "Ваш алгоритм угадывает число в среднем за 33 попыток\n",
      "Ваш алгоритм угадывает число в среднем за 5 попыток\n"
     ]
    },
    {
     "data": {
      "text/plain": [
       "5"
      ]
     },
     "execution_count": 98,
     "metadata": {},
     "output_type": "execute_result"
    }
   ],
   "source": [
    "import numpy as np\n",
    "\n",
    "\n",
    "def score_game(game_core):\n",
    "    '''Запускаем игру 1000 раз, чтобы узнать, как быстро игра\n",
    "    угадывает число'''\n",
    "    count_ls = []\n",
    "    np.random.seed(1)\n",
    "    random_array = np.random.randint(1, 101, size=(1000))\n",
    "    for number in random_array:\n",
    "        count_ls.append(game_core(number))\n",
    "    score = int(np.mean(count_ls))\n",
    "    print(f\"Ваш алгоритм угадывает число в среднем за {score} попыток\")\n",
    "    return score\n",
    "\n",
    "\n",
    "def game_core_v1(number):\n",
    "    '''Просто угадываем на random, никак не используя информацию о больше или\n",
    "        меньше. Функция принимает загаданное число и возвращает число\n",
    "        попыток'''\n",
    "    count = 0\n",
    "    while True:\n",
    "        count += 1\n",
    "        predict = np.random.randint(1, 101)\n",
    "        if number == predict:\n",
    "            return count\n",
    "\n",
    "\n",
    "def game_core_v2(number):\n",
    "    '''Сначала устанавливаем любое random число, а потом уменьшаем или\n",
    "        увеличиваем его в зависимости от того, больше оно или меньше нужного.\n",
    "       Функция принимает загаданное число и возвращает число попыток'''\n",
    "    count = 1\n",
    "    predict = np.random.randint(1, 101)\n",
    "    while number != predict:\n",
    "        count += 1\n",
    "        if number > predict:\n",
    "            predict += 1\n",
    "        elif number < predict:\n",
    "            predict -= 1\n",
    "    return count\n",
    "\n",
    "\n",
    "def game_core_v3(number):\n",
    "    '''Сначала устанавливаем медиану возможных чисел, а потом уменьшаем или\n",
    "        увеличиваем его в зависимости от того, больше оно или меньше нужного с\n",
    "        шагом, который уменьшается в 2 раза за каждую итерацию. Проще говоря,\n",
    "        реализуется алгоритм поиска значения методом деления отрезка пополам.\n",
    "       Функция принимает загаданное число и возвращает число попыток'''\n",
    "    count = 1\n",
    "    predict = 50\n",
    "    step = predict // 2\n",
    "    while number != predict:\n",
    "        count += 1\n",
    "        if number > predict:\n",
    "            predict += step\n",
    "        elif number < predict:\n",
    "            predict -= step\n",
    "        if step > 1:\n",
    "            step = step // 2\n",
    "    return count\n",
    "\n",
    "# Тест первой версии\n",
    "score_game(game_core_v1)\n",
    "# Тест второй версии\n",
    "score_game(game_core_v2)\n",
    "# Тест моей версии\n",
    "score_game(game_core_v3)"
   ]
  }
 ],
 "metadata": {
  "kernelspec": {
   "display_name": "Python 3",
   "language": "python",
   "name": "python3"
  },
  "language_info": {
   "codemirror_mode": {
    "name": "ipython",
    "version": 3
   },
   "file_extension": ".py",
   "mimetype": "text/x-python",
   "name": "python",
   "nbconvert_exporter": "python",
   "pygments_lexer": "ipython3",
   "version": "3.8.3"
  }
 },
 "nbformat": 4,
 "nbformat_minor": 4
}
