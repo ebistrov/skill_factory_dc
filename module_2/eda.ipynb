{
 "cells": [
  {
   "cell_type": "code",
   "execution_count": 5,
   "metadata": {},
   "outputs": [],
   "source": [
    "import pandas as pd\n",
    "import matplotlib.pyplot as plt\n",
    "import seaborn as sns\n",
    "import math\n",
    "from itertools import combinations\n",
    "from scipy.stats import ttest_ind\n",
    "\n",
    "pd.set_option('display.max_rows', 500) # показывать больше строк\n",
    "pd.set_option('display.max_columns', 500) # показывать больше колонок\n",
    "    \n",
    "stud_math = pd.read_csv('stud_math.csv')\n",
    "\n",
    "    \n",
    "def clearString(series):\n",
    "    series.apply(lambda x: str(x))\n",
    "    series.apply(lambda x: 'other' if x == 'nan' else x)\n",
    "    \n",
    "    return series\n",
    "\n",
    "def updateIQR(df, column):\n",
    "    IQR = column.quantile(0.75) - column.quantile(0.25)\n",
    "    perc25 = column.quantile(0.25)\n",
    "    perc75 = column.quantile(0.75)\n",
    "\n",
    "    return df.loc[column.between(perc25 - 1.5*IQR, perc75 + 1.5*IQR)]\n",
    " \n",
    "\n",
    "\n",
    "\n",
    "\n",
    "\n",
    "\n",
    "\n",
    "\n",
    "\n",
    "\n",
    "\n",
    "#sns.pairplot(stud_math, kind = 'reg')\n",
    "#stud_math.corr()\n"
   ]
  },
  {
   "cell_type": "code",
   "execution_count": 6,
   "metadata": {},
   "outputs": [
    {
     "data": {
      "text/plain": [
       "count     395\n",
       "unique      2\n",
       "top        GP\n",
       "freq      349\n",
       "Name: school, dtype: object"
      ]
     },
     "execution_count": 6,
     "metadata": {},
     "output_type": "execute_result"
    },
    {
     "data": {
      "image/png": "[encoded data removed]",
      "text/plain": [
       "<Figure size 432x288 with 1 Axes>"
      ]
     },
     "metadata": {
      "needs_background": "light"
     },
     "output_type": "display_data"
    }
   ],
   "source": [
    "#Поле school - заменяем NaN на Other\n",
    "stud_math.school = clearString(stud_math.school)\n",
    "stud_math.school.hist()\n",
    "stud_math.school.describe()"
   ]
  },
  {
   "cell_type": "code",
   "execution_count": 8,
   "metadata": {},
   "outputs": [
    {
     "data": {
      "text/plain": [
       "count     395\n",
       "unique      2\n",
       "top         F\n",
       "freq      208\n",
       "Name: sex, dtype: object"
      ]
     },
     "execution_count": 8,
     "metadata": {},
     "output_type": "execute_result"
    },
    {
     "data": {
      "image/png": "[encoded data removed]",
      "text/plain": [
       "<Figure size 432x288 with 1 Axes>"
      ]
     },
     "metadata": {
      "needs_background": "light"
     },
     "output_type": "display_data"
    }
   ],
   "source": [
    "#Поле sex - заменяем NaN на Other\n",
    "stud_math.sex = clearString(stud_math.sex)\n",
    "stud_math.sex.hist()\n",
    "stud_math.sex.describe()"
   ]
  },
  {
   "cell_type": "code",
   "execution_count": 16,
   "metadata": {},
   "outputs": [
    {
     "data": {
      "text/plain": [
       "count    394.000000\n",
       "mean      16.682741\n",
       "std        1.249267\n",
       "min       15.000000\n",
       "25%       16.000000\n",
       "50%       17.000000\n",
       "75%       18.000000\n",
       "max       21.000000\n",
       "Name: age, dtype: float64"
      ]
     },
     "execution_count": 16,
     "metadata": {},
     "output_type": "execute_result"
    },
    {
     "data": {
      "image/png": "[encoded data removed]",
      "text/plain": [
       "<Figure size 432x288 with 1 Axes>"
      ]
     },
     "metadata": {
      "needs_background": "light"
     },
     "output_type": "display_data"
    }
   ],
   "source": [
    "#Поле age не нуждается в очистке(нет Null и пропусков)\n",
    "stud_math.age = clearString(stud_math.age)\n",
    "\n",
    "#Устраняем выбросы\n",
    "stud_math = updateIQR(stud_math, stud_math.age)\n",
    "stud_math.age.hist()\n",
    "stud_math.age.describe()"
   ]
  },
  {
   "cell_type": "code",
   "execution_count": 17,
   "metadata": {},
   "outputs": [
    {
     "data": {
      "text/plain": [
       "count     377\n",
       "unique      2\n",
       "top         U\n",
       "freq      294\n",
       "Name: address, dtype: object"
      ]
     },
     "execution_count": 17,
     "metadata": {},
     "output_type": "execute_result"
    },
    {
     "data": {
      "image/png": "[encoded data removed]",
      "text/plain": [
       "<Figure size 432x288 with 1 Axes>"
      ]
     },
     "metadata": {
      "needs_background": "light"
     },
     "output_type": "display_data"
    }
   ],
   "source": [
    "#Поле address - заменяем NaN на Other\n",
    "stud_math.address = clearString(stud_math.address)\n",
    "\n",
    "stud_math.address.hist()\n",
    "stud_math.address.describe()"
   ]
  },
  {
   "cell_type": "code",
   "execution_count": 3,
   "metadata": {},
   "outputs": [
    {
     "data": {
      "text/plain": [
       "count     368\n",
       "unique      2\n",
       "top       GT3\n",
       "freq      261\n",
       "Name: famsize, dtype: object"
      ]
     },
     "execution_count": 3,
     "metadata": {},
     "output_type": "execute_result"
    },
    {
     "data": {
      "image/png": "[encoded data removed]",
      "text/plain": [
       "<Figure size 432x288 with 1 Axes>"
      ]
     },
     "metadata": {
      "needs_background": "light"
     },
     "output_type": "display_data"
    }
   ],
   "source": [
    "#Поле famsize - заменяем NaN на Other\n",
    "stud_math.famsize = clearString(stud_math.famsize)\n",
    "\n",
    "stud_math.famsize.hist()\n",
    "stud_math.famsize.describe()"
   ]
  },
  {
   "cell_type": "code",
   "execution_count": 4,
   "metadata": {},
   "outputs": [
    {
     "data": {
      "text/plain": [
       "count     368\n",
       "unique      2\n",
       "top       GT3\n",
       "freq      261\n",
       "Name: famsize, dtype: object"
      ]
     },
     "execution_count": 4,
     "metadata": {},
     "output_type": "execute_result"
    },
    {
     "data": {
      "image/png": "[encoded data removed]",
      "text/plain": [
       "<Figure size 432x288 with 1 Axes>"
      ]
     },
     "metadata": {
      "needs_background": "light"
     },
     "output_type": "display_data"
    }
   ],
   "source": [
    "#Поле Pstatus - заменяем NaN на Other\n",
    "stud_math.Pstatus = clearString(stud_math.Pstatus)\n",
    "\n",
    "stud_math.famsize.hist()\n",
    "stud_math.famsize.describe()"
   ]
  },
  {
   "cell_type": "code",
   "execution_count": 8,
   "metadata": {},
   "outputs": [
    {
     "data": {
      "text/plain": [
       "count    394.000000\n",
       "mean       2.730964\n",
       "std        1.120571\n",
       "min        0.000000\n",
       "25%        2.000000\n",
       "50%        3.000000\n",
       "75%        4.000000\n",
       "max        4.000000\n",
       "Name: Medu, dtype: float64"
      ]
     },
     "execution_count": 8,
     "metadata": {},
     "output_type": "execute_result"
    },
    {
     "data": {
      "image/png": "[encoded data removed]",
      "text/plain": [
       "<Figure size 432x288 with 1 Axes>"
      ]
     },
     "metadata": {
      "needs_background": "light"
     },
     "output_type": "display_data"
    }
   ],
   "source": [
    "#Поле Medu - заменяем NaN на 0\n",
    "stud_math.Medu = stud_math.Medu.apply(lambda x: 0 if math.isnan(x) else x)\n",
    "\n",
    "#Устраняем выбросы\n",
    "stud_math = updateIQR(stud_math, stud_math.Medu)\n",
    "\n",
    "stud_math.Medu.hist()\n",
    "stud_math.Medu.describe()"
   ]
  },
  {
   "cell_type": "code",
   "execution_count": 7,
   "metadata": {},
   "outputs": [
    {
     "data": {
      "text/plain": [
       "count    394.000000\n",
       "mean       2.360406\n",
       "std        1.213602\n",
       "min        0.000000\n",
       "25%        1.000000\n",
       "50%        2.000000\n",
       "75%        3.000000\n",
       "max        4.000000\n",
       "Name: Fedu, dtype: float64"
      ]
     },
     "execution_count": 7,
     "metadata": {},
     "output_type": "execute_result"
    },
    {
     "data": {
      "image/png": "[encoded data removed]",
      "text/plain": [
       "<Figure size 432x288 with 1 Axes>"
      ]
     },
     "metadata": {
      "needs_background": "light"
     },
     "output_type": "display_data"
    }
   ],
   "source": [
    "#Поле Fedu - заменяем NaN на 0\n",
    "stud_math.Fedu = stud_math.Fedu.apply(lambda x: 0 if math.isnan(x) else x)\n",
    "\n",
    "#Устраняем выбросы\n",
    "stud_math = updateIQR(stud_math, stud_math.Fedu)\n",
    "\n",
    "stud_math.Fedu.hist()\n",
    "stud_math.Fedu.describe()"
   ]
  },
  {
   "cell_type": "code",
   "execution_count": 4,
   "metadata": {},
   "outputs": [
    {
     "data": {
      "text/plain": [
       "count       376\n",
       "unique        5\n",
       "top       other\n",
       "freq        133\n",
       "Name: Mjob, dtype: object"
      ]
     },
     "execution_count": 4,
     "metadata": {},
     "output_type": "execute_result"
    },
    {
     "data": {
      "image/png": "[encoded data removed]",
      "text/plain": [
       "<Figure size 432x288 with 1 Axes>"
      ]
     },
     "metadata": {
      "needs_background": "light"
     },
     "output_type": "display_data"
    }
   ],
   "source": [
    "#Поле Mjob - заменяем NaN на Other\n",
    "stud_math.Mjob = clearString(stud_math.Mjob)\n",
    "\n",
    "#Устраняем выбросы\n",
    "stud_math = updateIQR(stud_math, stud_math.Fedu)\n",
    "\n",
    "stud_math.Mjob.hist()\n",
    "stud_math.Mjob.describe()"
   ]
  },
  {
   "cell_type": "code",
   "execution_count": 10,
   "metadata": {},
   "outputs": [
    {
     "data": {
      "text/plain": [
       "count       358\n",
       "unique        5\n",
       "top       other\n",
       "freq        196\n",
       "Name: Fjob, dtype: object"
      ]
     },
     "execution_count": 10,
     "metadata": {},
     "output_type": "execute_result"
    },
    {
     "data": {
      "image/png": "[encoded data removed]",
      "text/plain": [
       "<Figure size 432x288 with 1 Axes>"
      ]
     },
     "metadata": {
      "needs_background": "light"
     },
     "output_type": "display_data"
    }
   ],
   "source": [
    "#Поле Mjob - заменяем NaN на Other\n",
    "stud_math.Fjob = clearString(stud_math.Fjob)\n",
    "\n",
    "stud_math.Fjob.hist()\n",
    "stud_math.Fjob.describe()"
   ]
  },
  {
   "cell_type": "code",
   "execution_count": 9,
   "metadata": {},
   "outputs": [
    {
     "data": {
      "text/plain": [
       "count        378\n",
       "unique         4\n",
       "top       course\n",
       "freq         137\n",
       "Name: reason, dtype: object"
      ]
     },
     "execution_count": 9,
     "metadata": {},
     "output_type": "execute_result"
    },
    {
     "data": {
      "image/png": "[encoded data removed]",
      "text/plain": [
       "<Figure size 432x288 with 1 Axes>"
      ]
     },
     "metadata": {
      "needs_background": "light"
     },
     "output_type": "display_data"
    }
   ],
   "source": [
    "#Поле reason - заменяем NaN на Other\n",
    "stud_math.reason = clearString(stud_math.reason)\n",
    "\n",
    "stud_math.reason.hist()\n",
    "stud_math.reason.describe()"
   ]
  },
  {
   "cell_type": "code",
   "execution_count": 10,
   "metadata": {},
   "outputs": [
    {
     "data": {
      "text/plain": [
       "count        364\n",
       "unique         3\n",
       "top       mother\n",
       "freq         250\n",
       "Name: guardian, dtype: object"
      ]
     },
     "execution_count": 10,
     "metadata": {},
     "output_type": "execute_result"
    },
    {
     "data": {
      "image/png": "[encoded data removed]",
      "text/plain": [
       "<Figure size 432x288 with 1 Axes>"
      ]
     },
     "metadata": {
      "needs_background": "light"
     },
     "output_type": "display_data"
    }
   ],
   "source": [
    "#Поле guardian - заменяем NaN на Other\n",
    "stud_math.guardian = clearString(stud_math.guardian)\n",
    "\n",
    "stud_math.guardian.hist()\n",
    "stud_math.guardian.describe()"
   ]
  },
  {
   "cell_type": "code",
   "execution_count": 11,
   "metadata": {},
   "outputs": [
    {
     "data": {
      "text/plain": [
       "count    387.000000\n",
       "mean       1.284238\n",
       "std        0.676653\n",
       "min        0.000000\n",
       "25%        1.000000\n",
       "50%        1.000000\n",
       "75%        2.000000\n",
       "max        3.000000\n",
       "Name: traveltime, dtype: float64"
      ]
     },
     "execution_count": 11,
     "metadata": {},
     "output_type": "execute_result"
    },
    {
     "data": {
      "image/png": "[encoded data removed]",
      "text/plain": [
       "<Figure size 432x288 with 1 Axes>"
      ]
     },
     "metadata": {
      "needs_background": "light"
     },
     "output_type": "display_data"
    }
   ],
   "source": [
    "#Поле traveltime - заменяем NaN на 0\n",
    "stud_math.traveltime = stud_math.traveltime.apply(lambda x: 0 if math.isnan(x) else x)\n",
    "\n",
    "#Устраняем выбросы\n",
    "stud_math = updateIQR(stud_math, stud_math.traveltime)\n",
    "\n",
    "stud_math.traveltime.hist()\n",
    "stud_math.traveltime.describe()"
   ]
  },
  {
   "cell_type": "code",
   "execution_count": 13,
   "metadata": {},
   "outputs": [
    {
     "data": {
      "text/plain": [
       "count    361.000000\n",
       "mean       1.855956\n",
       "std        0.712019\n",
       "min        0.000000\n",
       "25%        1.000000\n",
       "50%        2.000000\n",
       "75%        2.000000\n",
       "max        3.000000\n",
       "Name: studytime, dtype: float64"
      ]
     },
     "execution_count": 13,
     "metadata": {},
     "output_type": "execute_result"
    },
    {
     "data": {
      "image/png": "[encoded data removed]",
      "text/plain": [
       "<Figure size 432x288 with 1 Axes>"
      ]
     },
     "metadata": {
      "needs_background": "light"
     },
     "output_type": "display_data"
    }
   ],
   "source": [
    "#Поле studytime - заменяем NaN на 0\n",
    "stud_math.studytime = stud_math.studytime.apply(lambda x: 0 if math.isnan(x) else x)\n",
    "\n",
    "#Устраняем выбросы\n",
    "stud_math = updateIQR(stud_math, stud_math.studytime)\n",
    "\n",
    "stud_math.studytime.hist()\n",
    "stud_math.studytime.describe()"
   ]
  },
  {
   "cell_type": "code",
   "execution_count": 14,
   "metadata": {},
   "outputs": [
    {
     "data": {
      "text/plain": [
       "count    284.0\n",
       "mean       0.0\n",
       "std        0.0\n",
       "min        0.0\n",
       "25%        0.0\n",
       "50%        0.0\n",
       "75%        0.0\n",
       "max        0.0\n",
       "Name: failures, dtype: float64"
      ]
     },
     "execution_count": 14,
     "metadata": {},
     "output_type": "execute_result"
    },
    {
     "data": {
      "image/png": "[encoded data removed]",
      "text/plain": [
       "<Figure size 432x288 with 1 Axes>"
      ]
     },
     "metadata": {
      "needs_background": "light"
     },
     "output_type": "display_data"
    }
   ],
   "source": [
    "#Поле failures - заменяем NaN на 0\n",
    "stud_math.failures = stud_math.failures.apply(lambda x: 0 if math.isnan(x) else x)\n",
    "\n",
    "#Устраняем выбросы\n",
    "stud_math = updateIQR(stud_math, stud_math.failures)\n",
    "\n",
    "stud_math.failures.hist()\n",
    "stud_math.failures.describe()"
   ]
  },
  {
   "cell_type": "code",
   "execution_count": 14,
   "metadata": {},
   "outputs": [
    {
     "data": {
      "text/plain": [
       "count     386\n",
       "unique      2\n",
       "top        no\n",
       "freq      335\n",
       "Name: schoolsup, dtype: object"
      ]
     },
     "execution_count": 14,
     "metadata": {},
     "output_type": "execute_result"
    },
    {
     "data": {
      "image/png": "[encoded data removed]",
      "text/plain": [
       "<Figure size 432x288 with 1 Axes>"
      ]
     },
     "metadata": {
      "needs_background": "light"
     },
     "output_type": "display_data"
    }
   ],
   "source": [
    "#Поле schoolsup - заменяем NaN на other\n",
    "stud_math.schoolsup = clearString(stud_math.schoolsup)\n",
    "\n",
    "stud_math.schoolsup.hist()\n",
    "stud_math.schoolsup.describe()"
   ]
  },
  {
   "cell_type": "code",
   "execution_count": 15,
   "metadata": {},
   "outputs": [
    {
     "data": {
      "text/plain": [
       "count     356\n",
       "unique      2\n",
       "top       yes\n",
       "freq      219\n",
       "Name: famsup, dtype: object"
      ]
     },
     "execution_count": 15,
     "metadata": {},
     "output_type": "execute_result"
    },
    {
     "data": {
      "image/png": "[encoded data removed]",
      "text/plain": [
       "<Figure size 432x288 with 1 Axes>"
      ]
     },
     "metadata": {
      "needs_background": "light"
     },
     "output_type": "display_data"
    }
   ],
   "source": [
    "#Поле famsup - заменяем NaN на other\n",
    "stud_math.famsup = clearString(stud_math.famsup)\n",
    "\n",
    "stud_math.famsup.hist()\n",
    "stud_math.famsup.describe()"
   ]
  },
  {
   "cell_type": "code",
   "execution_count": 16,
   "metadata": {},
   "outputs": [
    {
     "data": {
      "text/plain": [
       "count     355\n",
       "unique      2\n",
       "top        no\n",
       "freq      200\n",
       "Name: paid, dtype: object"
      ]
     },
     "execution_count": 16,
     "metadata": {},
     "output_type": "execute_result"
    },
    {
     "data": {
      "image/png": "[encoded data removed]",
      "text/plain": [
       "<Figure size 432x288 with 1 Axes>"
      ]
     },
     "metadata": {
      "needs_background": "light"
     },
     "output_type": "display_data"
    }
   ],
   "source": [
    "#Поле paid - заменяем NaN на other\n",
    "stud_math.paid = clearString(stud_math.paid)\n",
    "\n",
    "stud_math.paid.hist()\n",
    "stud_math.paid.describe()"
   ]
  },
  {
   "cell_type": "code",
   "execution_count": 17,
   "metadata": {},
   "outputs": [
    {
     "data": {
      "text/plain": [
       "count     381\n",
       "unique      2\n",
       "top       yes\n",
       "freq      195\n",
       "Name: activities, dtype: object"
      ]
     },
     "execution_count": 17,
     "metadata": {},
     "output_type": "execute_result"
    },
    {
     "data": {
      "image/png": "[encoded data removed]",
      "text/plain": [
       "<Figure size 432x288 with 1 Axes>"
      ]
     },
     "metadata": {
      "needs_background": "light"
     },
     "output_type": "display_data"
    }
   ],
   "source": [
    "#Поле activities - заменяем NaN на other\n",
    "stud_math.activities = clearString(stud_math.activities)\n",
    "\n",
    "stud_math.activities.hist()\n",
    "stud_math.activities.describe()"
   ]
  },
  {
   "cell_type": "code",
   "execution_count": 18,
   "metadata": {},
   "outputs": [
    {
     "data": {
      "text/plain": [
       "count     379\n",
       "unique      2\n",
       "top       yes\n",
       "freq      300\n",
       "Name: nursery, dtype: object"
      ]
     },
     "execution_count": 18,
     "metadata": {},
     "output_type": "execute_result"
    },
    {
     "data": {
      "image/png": "[encoded data removed]",
      "text/plain": [
       "<Figure size 432x288 with 1 Axes>"
      ]
     },
     "metadata": {
      "needs_background": "light"
     },
     "output_type": "display_data"
    }
   ],
   "source": [
    "#Поле nursery - заменяем NaN на other\n",
    "stud_math.nursery = clearString(stud_math.nursery)\n",
    "\n",
    "stud_math.nursery.hist()\n",
    "stud_math.nursery.describe()"
   ]
  },
  {
   "cell_type": "code",
   "execution_count": 19,
   "metadata": {},
   "outputs": [
    {
     "data": {
      "text/plain": [
       "count     375\n",
       "unique      2\n",
       "top       yes\n",
       "freq      356\n",
       "Name: higher, dtype: object"
      ]
     },
     "execution_count": 19,
     "metadata": {},
     "output_type": "execute_result"
    },
    {
     "data": {
      "image/png": "[encoded data removed]",
      "text/plain": [
       "<Figure size 432x288 with 1 Axes>"
      ]
     },
     "metadata": {
      "needs_background": "light"
     },
     "output_type": "display_data"
    }
   ],
   "source": [
    "#Поле higher - заменяем NaN на other\n",
    "stud_math.higher = clearString(stud_math.higher)\n",
    "\n",
    "stud_math.higher.hist()\n",
    "stud_math.higher.describe()"
   ]
  },
  {
   "cell_type": "code",
   "execution_count": 20,
   "metadata": {},
   "outputs": [
    {
     "data": {
      "text/plain": [
       "count     361\n",
       "unique      2\n",
       "top       yes\n",
       "freq      305\n",
       "Name: internet, dtype: object"
      ]
     },
     "execution_count": 20,
     "metadata": {},
     "output_type": "execute_result"
    },
    {
     "data": {
      "image/png": "[encoded data removed]",
      "text/plain": [
       "<Figure size 432x288 with 1 Axes>"
      ]
     },
     "metadata": {
      "needs_background": "light"
     },
     "output_type": "display_data"
    }
   ],
   "source": [
    "#Поле internet - заменяем NaN на other\n",
    "stud_math.internet = clearString(stud_math.internet)\n",
    "\n",
    "stud_math.internet.hist()\n",
    "stud_math.internet.describe()"
   ]
  },
  {
   "cell_type": "code",
   "execution_count": 21,
   "metadata": {},
   "outputs": [
    {
     "data": {
      "text/plain": [
       "count     364\n",
       "unique      2\n",
       "top        no\n",
       "freq      240\n",
       "Name: romantic, dtype: object"
      ]
     },
     "execution_count": 21,
     "metadata": {},
     "output_type": "execute_result"
    },
    {
     "data": {
      "image/png": "[encoded data removed]",
      "text/plain": [
       "<Figure size 432x288 with 1 Axes>"
      ]
     },
     "metadata": {
      "needs_background": "light"
     },
     "output_type": "display_data"
    }
   ],
   "source": [
    "#Поле romantic - заменяем NaN на other\n",
    "stud_math.romantic = clearString(stud_math.romantic)\n",
    "\n",
    "stud_math.romantic.hist()\n",
    "stud_math.romantic.describe()"
   ]
  },
  {
   "cell_type": "code",
   "execution_count": 15,
   "metadata": {},
   "outputs": [
    {
     "data": {
      "text/plain": [
       "count    284.000000\n",
       "mean       3.679577\n",
       "std        1.323665\n",
       "min        0.000000\n",
       "25%        3.000000\n",
       "50%        4.000000\n",
       "75%        5.000000\n",
       "max        5.000000\n",
       "Name: famrel, dtype: float64"
      ]
     },
     "execution_count": 15,
     "metadata": {},
     "output_type": "execute_result"
    },
    {
     "data": {
      "image/png": "[encoded data removed]",
      "text/plain": [
       "<Figure size 432x288 with 1 Axes>"
      ]
     },
     "metadata": {
      "needs_background": "light"
     },
     "output_type": "display_data"
    }
   ],
   "source": [
    "#Поле famrel - заменяем NaN на 0\n",
    "stud_math.famrel = stud_math.famrel.apply(lambda x: 0 if math.isnan(x) else x)\n",
    "\n",
    "#Устраняем выбросы\n",
    "stud_math = updateIQR(stud_math, stud_math.famrel)\n",
    "\n",
    "stud_math.famrel.hist()\n",
    "stud_math.famrel.describe()"
   ]
  },
  {
   "cell_type": "code",
   "execution_count": 16,
   "metadata": {},
   "outputs": [
    {
     "data": {
      "text/plain": [
       "count    264.000000\n",
       "mean       3.295455\n",
       "std        0.847619\n",
       "min        2.000000\n",
       "25%        3.000000\n",
       "50%        3.000000\n",
       "75%        4.000000\n",
       "max        5.000000\n",
       "Name: freetime, dtype: float64"
      ]
     },
     "execution_count": 16,
     "metadata": {},
     "output_type": "execute_result"
    },
    {
     "data": {
      "image/png": "[encoded data removed]",
      "text/plain": [
       "<Figure size 432x288 with 1 Axes>"
      ]
     },
     "metadata": {
      "needs_background": "light"
     },
     "output_type": "display_data"
    }
   ],
   "source": [
    "#Поле freetime - заменяем NaN на 0\n",
    "stud_math.freetime = stud_math.freetime.apply(lambda x: 0 if math.isnan(x) else x)\n",
    "\n",
    "#Устраняем выбросы\n",
    "stud_math = updateIQR(stud_math, stud_math.freetime)\n",
    "\n",
    "stud_math.freetime.hist()\n",
    "stud_math.freetime.describe()"
   ]
  },
  {
   "cell_type": "code",
   "execution_count": 24,
   "metadata": {},
   "outputs": [
    {
     "data": {
      "text/plain": [
       "count    395.000000\n",
       "mean       3.043038\n",
       "std        1.188212\n",
       "min        0.000000\n",
       "25%        2.000000\n",
       "50%        3.000000\n",
       "75%        4.000000\n",
       "max        5.000000\n",
       "Name: goout, dtype: float64"
      ]
     },
     "execution_count": 24,
     "metadata": {},
     "output_type": "execute_result"
    },
    {
     "data": {
      "image/png": "[encoded data removed]",
      "text/plain": [
       "<Figure size 432x288 with 1 Axes>"
      ]
     },
     "metadata": {
      "needs_background": "light"
     },
     "output_type": "display_data"
    }
   ],
   "source": [
    "#Поле goout - заменяем NaN на 0\n",
    "stud_math.goout = stud_math.goout.apply(lambda x: 0 if math.isnan(x) else x)\n",
    "\n",
    "#Устраняем выбросы\n",
    "stud_math = updateIQR(stud_math, stud_math.goout)\n",
    "\n",
    "stud_math.goout.hist()\n",
    "stud_math.goout.describe()"
   ]
  },
  {
   "cell_type": "code",
   "execution_count": 25,
   "metadata": {},
   "outputs": [
    {
     "data": {
      "text/plain": [
       "count    395.000000\n",
       "mean       3.397468\n",
       "std        1.526914\n",
       "min        0.000000\n",
       "25%        2.000000\n",
       "50%        4.000000\n",
       "75%        5.000000\n",
       "max        5.000000\n",
       "Name: health, dtype: float64"
      ]
     },
     "execution_count": 25,
     "metadata": {},
     "output_type": "execute_result"
    },
    {
     "data": {
      "image/png": "[encoded data removed]",
      "text/plain": [
       "<Figure size 432x288 with 1 Axes>"
      ]
     },
     "metadata": {
      "needs_background": "light"
     },
     "output_type": "display_data"
    }
   ],
   "source": [
    "#Поле health - заменяем NaN на 0\n",
    "stud_math.health = stud_math.health.apply(lambda x: 0 if math.isnan(x) else x)\n",
    "\n",
    "#Устраняем выбросы\n",
    "stud_math = updateIQR(stud_math, stud_math.health)\n",
    "\n",
    "stud_math.health.hist()\n",
    "stud_math.health.describe()"
   ]
  },
  {
   "cell_type": "code",
   "execution_count": 17,
   "metadata": {},
   "outputs": [
    {
     "data": {
      "text/plain": [
       "count    250.00000\n",
       "mean       3.61600\n",
       "std        3.86371\n",
       "min        0.00000\n",
       "25%        0.00000\n",
       "50%        2.00000\n",
       "75%        6.00000\n",
       "max       14.00000\n",
       "Name: absences, dtype: float64"
      ]
     },
     "execution_count": 17,
     "metadata": {},
     "output_type": "execute_result"
    },
    {
     "data": {
      "image/png": "[encoded data removed]",
      "text/plain": [
       "<Figure size 432x288 with 1 Axes>"
      ]
     },
     "metadata": {
      "needs_background": "light"
     },
     "output_type": "display_data"
    }
   ],
   "source": [
    "#Поле absences - заменяем NaN на 0\n",
    "stud_math.absences = stud_math.absences.apply(lambda x: 0 if math.isnan(x) else x)\n",
    "\n",
    "#Устраняем выбросы\n",
    "stud_math = updateIQR(stud_math, stud_math.absences)\n",
    "\n",
    "stud_math.absences.hist()\n",
    "stud_math.absences.describe()"
   ]
  },
  {
   "cell_type": "code",
   "execution_count": 18,
   "metadata": {},
   "outputs": [
    {
     "data": {
      "text/plain": [
       "count    235.000000\n",
       "mean      60.212766\n",
       "std       15.660577\n",
       "min       25.000000\n",
       "25%       50.000000\n",
       "50%       60.000000\n",
       "75%       70.000000\n",
       "max       95.000000\n",
       "Name: score, dtype: float64"
      ]
     },
     "execution_count": 18,
     "metadata": {},
     "output_type": "execute_result"
    },
    {
     "data": {
      "image/png": "[encoded data removed]",
      "text/plain": [
       "<Figure size 432x288 with 1 Axes>"
      ]
     },
     "metadata": {
      "needs_background": "light"
     },
     "output_type": "display_data"
    }
   ],
   "source": [
    "#Поле score - заменяем NaN на 0\n",
    "stud_math.score = stud_math.score.apply(lambda x: 0 if math.isnan(x) else x)\n",
    "\n",
    "#Устраняем выбросы\n",
    "stud_math = updateIQR(stud_math, stud_math.score)\n",
    "\n",
    "stud_math.score.hist()\n",
    "stud_math.score.describe()"
   ]
  },
  {
   "cell_type": "code",
   "execution_count": null,
   "metadata": {},
   "outputs": [],
   "source": []
  }
 ],
 "metadata": {
  "kernelspec": {
   "display_name": "Python 3",
   "language": "python",
   "name": "python3"
  },
  "language_info": {
   "codemirror_mode": {
    "name": "ipython",
    "version": 3
   },
   "file_extension": ".py",
   "mimetype": "text/x-python",
   "name": "python",
   "nbconvert_exporter": "python",
   "pygments_lexer": "ipython3",
   "version": "3.8.3"
  }
 },
 "nbformat": 4,
 "nbformat_minor": 4
}
